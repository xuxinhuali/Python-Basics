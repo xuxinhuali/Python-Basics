{
 "cells": [
  {
   "cell_type": "code",
   "execution_count": 1,
   "id": "fd7ad6ae",
   "metadata": {},
   "outputs": [],
   "source": [
    "'''\n",
    "Python爬虫，使用requests库爬取人民网首页的标题和链接，并导出为csv文件，同时把图片爬取下来，保存到image文件夹中\n",
    "'''\n",
    "import requests\n",
    "import re\n",
    "import os"
   ]
  },
  {
   "cell_type": "code",
   "execution_count": 2,
   "id": "fbfd164c",
   "metadata": {},
   "outputs": [],
   "source": [
    "headers = {'User-Agent': 'Mozilla/5.0 (Windows NT 10.0; Win64; x64) AppleWebKit/537.36 (KHTML, like Gecko) Chrome/114.0.0.0 Safari/537.36 Edg/114.0.1823.51'}  # 伪装浏览器\n",
    "url = 'http://www.people.com.cn'  # 网址\n",
    "# 获取网页源代码\n",
    "r = requests.get(url, headers=headers, timeout=5)\n",
    "r.encoding = r.apparent_encoding\n",
    "html = r.text"
   ]
  },
  {
   "cell_type": "code",
   "execution_count": 3,
   "id": "f878ff91",
   "metadata": {
    "scrolled": false
   },
   "outputs": [],
   "source": [
    "# 爬取标题和链接\n",
    "title_url_match = '''<a href=\\'(.*?)' target=_blank>(.*?)</a>'''\n",
    "result_title_url = re.findall(title_url_match, html)"
   ]
  },
  {
   "cell_type": "code",
   "execution_count": 4,
   "id": "0009c4dc",
   "metadata": {},
   "outputs": [],
   "source": [
    "# 爬取图片\n",
    "picture_match = '''<img src=\"(.*?)\".*?alt=\"(.*?)\"/></a>'''\n",
    "result_picture = re.findall(picture_match, html)"
   ]
  },
  {
   "cell_type": "code",
   "execution_count": 10,
   "id": "a1d646ed",
   "metadata": {},
   "outputs": [],
   "source": [
    "# 把标题和链接导出为csv文件\n",
    "with open('title and url.csv', 'w', encoding='utf-8') as file:\n",
    "    file.write('{},{}\\n'.format('标题', '链接'))\n",
    "    for title_url in result_title_url:\n",
    "        file.write('{},{}\\n'.format(title_url[0].strip(), title_url[1].strip()))"
   ]
  },
  {
   "cell_type": "code",
   "execution_count": 6,
   "id": "76f1aabb",
   "metadata": {},
   "outputs": [],
   "source": [
    "# 把图片保存到image文件夹\n",
    "if not os.path.exists('image/'):\n",
    "    os.makedirs('image/')\n",
    "for image in result_picture:\n",
    "    picture = requests.get(url+image[0], headers=headers, timeout=5).content\n",
    "    with open('image/{}.jpg'.format(image[1]), 'wb') as file:\n",
    "        file.write(picture)"
   ]
  },
  {
   "cell_type": "code",
   "execution_count": null,
   "id": "5eaee604",
   "metadata": {},
   "outputs": [],
   "source": []
  }
 ],
 "metadata": {
  "kernelspec": {
   "display_name": "Python 3 (ipykernel)",
   "language": "python",
   "name": "python3"
  },
  "language_info": {
   "codemirror_mode": {
    "name": "ipython",
    "version": 3
   },
   "file_extension": ".py",
   "mimetype": "text/x-python",
   "name": "python",
   "nbconvert_exporter": "python",
   "pygments_lexer": "ipython3",
   "version": "3.10.9"
  }
 },
 "nbformat": 4,
 "nbformat_minor": 5
}
