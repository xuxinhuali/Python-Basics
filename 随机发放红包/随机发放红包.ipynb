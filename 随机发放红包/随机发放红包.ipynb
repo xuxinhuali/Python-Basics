{
 "cells": [
  {
   "cell_type": "code",
   "execution_count": 17,
   "id": "7128baf6",
   "metadata": {},
   "outputs": [],
   "source": [
    "'''\n",
    "编写一个不带界面的红包发放程序，\n",
    "如果用户选择普通红包，则输入总金额和红包个数，计算出待发放的单个红包金额；\n",
    "如果用户选择拼手气红包，则输入总金额和红包个数，随机发放红包（不超过总金额）。\n",
    "'''\n",
    "import random"
   ]
  },
  {
   "cell_type": "code",
   "execution_count": 18,
   "id": "464a0a0e",
   "metadata": {},
   "outputs": [
    {
     "name": "stdout",
     "output_type": "stream",
     "text": [
      "-----红包发放系统-----\n",
      "请选择你要发放的红包模式(输入数字)\n",
      "1:普通红包\n",
      "2:拼手气红包\n",
      "2\n",
      "输入红包总金额:5\n",
      "输入红包个数:3\n",
      "输入单个红包最大金额占比(必须小于1):0.5\n",
      "拼手气红包金额分别为: [1.87, 0.22, 2.91]\n"
     ]
    }
   ],
   "source": [
    "while True:\n",
    "    mode = input(\"-----红包发放系统-----\\n请选择你要发放的红包模式(输入数字)\\n1:普通红包\\n2:拼手气红包\\n\")\n",
    "    if mode == '1':\n",
    "        money = float(input('输入红包总金额:'))\n",
    "        number = int(input('输入红包个数:'))\n",
    "        print('单个红包的金额为：', round(money / number, 2))\n",
    "        break\n",
    "    elif mode == '2':\n",
    "        money = float(input('输入红包总金额:'))\n",
    "        number = int(input('输入红包个数:'))\n",
    "        threshold = float(input('输入单个红包最大金额占比(必须小于1):'))\n",
    "        packets = []\n",
    "        for i in range(number - 1):\n",
    "            packet = round(money * threshold * random.random(), 2) # 该红包的金额\n",
    "            money -= packet # 减去已分配部分\n",
    "            packets.append(packet)\n",
    "        packets.append(round(money, 2)) # 最后一份只需要剩下的钱\n",
    "        print(\"拼手气红包金额分别为:\", packets)\n",
    "        break\n",
    "    else:\n",
    "        print('没有这种红包，请重新选择\\n')"
   ]
  },
  {
   "cell_type": "code",
   "execution_count": null,
   "id": "4a7bde1f",
   "metadata": {},
   "outputs": [],
   "source": []
  }
 ],
 "metadata": {
  "kernelspec": {
   "display_name": "Python 3 (ipykernel)",
   "language": "python",
   "name": "python3"
  },
  "language_info": {
   "codemirror_mode": {
    "name": "ipython",
    "version": 3
   },
   "file_extension": ".py",
   "mimetype": "text/x-python",
   "name": "python",
   "nbconvert_exporter": "python",
   "pygments_lexer": "ipython3",
   "version": "3.10.9"
  }
 },
 "nbformat": 4,
 "nbformat_minor": 5
}
