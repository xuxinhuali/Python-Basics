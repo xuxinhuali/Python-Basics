{
 "cells": [
  {
   "cell_type": "code",
   "execution_count": 1,
   "id": "d6724726",
   "metadata": {},
   "outputs": [],
   "source": [
    "'''\n",
    "读取csv文件中标题和链接等内容，分别导入sqlite和mysql数据库\n",
    "'''\n",
    "import sqlite3\n",
    "import pymysql"
   ]
  },
  {
   "cell_type": "code",
   "execution_count": 2,
   "id": "b2a9caa7",
   "metadata": {},
   "outputs": [],
   "source": [
    "# 链接数据库，新建表\n",
    "conn = sqlite3.connect('people.db')\n",
    "SQL = '''drop table if exists information'''\n",
    "conn.execute(SQL)\n",
    "SQL = '''create table information(id int not null, title varchar(100) not null, url varchar(100) not null, primary key('id'))'''\n",
    "conn.execute(SQL)\n",
    "conn.commit()"
   ]
  },
  {
   "cell_type": "code",
   "execution_count": 3,
   "id": "5e9502d6",
   "metadata": {},
   "outputs": [],
   "source": [
    "# 数据导入数据库\n",
    "with open('title and url.csv', 'r', encoding='utf-8') as file:\n",
    "    contents = file.readlines()\n",
    "    for i, content in enumerate(contents[1:]):\n",
    "        title, url = content.split(',')\n",
    "        SQL = '''insert into information(id, title, url) values({}, '{}', '{}')'''.format(i, title.strip(), url.strip())\n",
    "        conn.execute(SQL)\n",
    "        conn.commit()"
   ]
  },
  {
   "cell_type": "code",
   "execution_count": 4,
   "id": "46ccd75f",
   "metadata": {},
   "outputs": [
    {
     "name": "stdout",
     "output_type": "stream",
     "text": [
      "(9, '人居环境改善 数字乡村为生活添彩', 'http://finance.people.com.cn/n1/2023/0621/c1004-40018675.html')\n",
      "(17, '人体的这个器官很敏感，要善待！', 'http://kpzg.people.com.cn/n1/2023/0621/c404214-40018379.html')\n"
     ]
    }
   ],
   "source": [
    "# 查询\n",
    "SQL = '''select* from information where title like(\"人%\")'''\n",
    "result = list(conn.execute(SQL))\n",
    "for i in result:\n",
    "    print(i)"
   ]
  },
  {
   "cell_type": "code",
   "execution_count": 5,
   "id": "0acf252c",
   "metadata": {},
   "outputs": [
    {
     "name": "stdout",
     "output_type": "stream",
     "text": [
      "(63, '强观察丨5月数据发布，中国经济发展态势如何？', 'http://www.people.com.cn/n1/2023/0618/c32306-40016419.html')\n",
      "(65, '强国新闻', 'http://www.people.com.cn/32306/index.html')\n",
      "(67, '强观察｜这些返回舱里的“神器”为航天员保驾护航', 'http://www.people.com.cn/n1/2023/0616/c32306-40014893.html')\n",
      "(69, '强观察｜高考招生有变化，这些新增专业你知道么？', 'http://www.people.com.cn/n1/2023/0609/c32306-40010158.html')\n",
      "(70, '强观察丨麦收正当时，如何确保颗粒归仓？', 'http://www.people.com.cn/n1/2023/0609/c32306-40010255.html')\n"
     ]
    }
   ],
   "source": [
    "# 首先你得在mysql里面创建这个Database才行，否则会报错\n",
    "MySQL_conn = pymysql.connect(host='localhost', user='root', password='xuxin2002', database='information')\n",
    "cur = MySQL_conn.cursor()\n",
    "# 创建新表\n",
    "cur.execute('drop table if exists information')\n",
    "cur.execute('''create table information(id int not null primary key, title varchar(100) not null, url varchar(100) not null)''')\n",
    "MySQL_conn.commit()\n",
    "for i, content in enumerate(contents[1:]):\n",
    "    title, url = content.split(',')\n",
    "    try:\n",
    "        cur.execute('''insert into information(id, title, url) values({}, '{}', '{}')'''.format(i, title.strip(), url.strip()))\n",
    "        MySQL_conn.commit()\n",
    "    except:\n",
    "        conn.rollback()\n",
    "cur.execute('''select* from information where title like('强%')''')\n",
    "for i in cur.fetchall():\n",
    "    print(i)\n",
    "cur.close()\n",
    "MySQL_conn.close()"
   ]
  },
  {
   "cell_type": "code",
   "execution_count": null,
   "id": "a233666a",
   "metadata": {},
   "outputs": [],
   "source": []
  }
 ],
 "metadata": {
  "kernelspec": {
   "display_name": "Python 3 (ipykernel)",
   "language": "python",
   "name": "python3"
  },
  "language_info": {
   "codemirror_mode": {
    "name": "ipython",
    "version": 3
   },
   "file_extension": ".py",
   "mimetype": "text/x-python",
   "name": "python",
   "nbconvert_exporter": "python",
   "pygments_lexer": "ipython3",
   "version": "3.10.9"
  }
 },
 "nbformat": 4,
 "nbformat_minor": 5
}
