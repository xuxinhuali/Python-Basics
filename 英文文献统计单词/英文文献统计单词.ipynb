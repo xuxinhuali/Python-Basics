{
 "cells": [
  {
   "cell_type": "code",
   "execution_count": 9,
   "id": "88513955",
   "metadata": {},
   "outputs": [
    {
     "data": {
      "text/plain": [
       "'\\n输入一篇英文文章，统计该文献中某个单词的出现次数。\\n'"
      ]
     },
     "execution_count": 9,
     "metadata": {},
     "output_type": "execute_result"
    }
   ],
   "source": [
    "'''\n",
    "输入一篇英文文章，统计该文献中某个单词的出现次数。\n",
    "'''"
   ]
  },
  {
   "cell_type": "code",
   "execution_count": 11,
   "id": "b4cc7ab0",
   "metadata": {},
   "outputs": [
    {
     "name": "stdout",
     "output_type": "stream",
     "text": [
      "请输入你想要查询的单词:DOG\n",
      "DOG单词出现的次数为: 3\n"
     ]
    }
   ],
   "source": [
    "with open('article.txt', 'r', encoding='gbk') as file:\n",
    "    article = file.read()\n",
    "    word = input('请输入你想要查询的单词:')\n",
    "    print(f'{word}单词出现的次数为:', article.lower().count(word.lower()))"
   ]
  },
  {
   "cell_type": "code",
   "execution_count": null,
   "id": "eebf8da3",
   "metadata": {},
   "outputs": [],
   "source": []
  }
 ],
 "metadata": {
  "kernelspec": {
   "display_name": "Python 3 (ipykernel)",
   "language": "python",
   "name": "python3"
  },
  "language_info": {
   "codemirror_mode": {
    "name": "ipython",
    "version": 3
   },
   "file_extension": ".py",
   "mimetype": "text/x-python",
   "name": "python",
   "nbconvert_exporter": "python",
   "pygments_lexer": "ipython3",
   "version": "3.10.9"
  }
 },
 "nbformat": 4,
 "nbformat_minor": 5
}
