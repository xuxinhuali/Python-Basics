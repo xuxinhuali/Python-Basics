{
 "cells": [
  {
   "cell_type": "code",
   "execution_count": 15,
   "id": "bd67dced",
   "metadata": {},
   "outputs": [],
   "source": [
    "\"\"\"\n",
    "动态时钟，Tkinter\n",
    "\"\"\"\n",
    "import tkinter as tk\n",
    "import time"
   ]
  },
  {
   "cell_type": "code",
   "execution_count": 29,
   "id": "08005e18",
   "metadata": {},
   "outputs": [],
   "source": [
    "root = tk.Tk()\n",
    "root.title('动态时钟')\n",
    "root.geometry('+600+400')\n",
    "clock_label = tk.Label(root, font=('SimHei', 60), bg='black', fg='white')\n",
    "clock_label.pack()\n",
    "\n",
    "def update_time():\n",
    "    now_time = time.strftime('%H:%M:%S')\n",
    "    clock_label.config(text=now_time)\n",
    "    root.after(100, update_time)\n",
    "\n",
    "update_time()\n",
    "\n",
    "root.mainloop()"
   ]
  },
  {
   "cell_type": "code",
   "execution_count": null,
   "id": "dd4fcfc7",
   "metadata": {},
   "outputs": [],
   "source": []
  }
 ],
 "metadata": {
  "kernelspec": {
   "display_name": "Python 3 (ipykernel)",
   "language": "python",
   "name": "python3"
  },
  "language_info": {
   "codemirror_mode": {
    "name": "ipython",
    "version": 3
   },
   "file_extension": ".py",
   "mimetype": "text/x-python",
   "name": "python",
   "nbconvert_exporter": "python",
   "pygments_lexer": "ipython3",
   "version": "3.10.9"
  }
 },
 "nbformat": 4,
 "nbformat_minor": 5
}
